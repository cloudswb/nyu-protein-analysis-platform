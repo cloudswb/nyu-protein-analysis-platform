{
 "cells": [
  {
   "cell_type": "code",
   "execution_count": 1,
   "id": "820bd28a-8109-4875-9deb-a818ba325271",
   "metadata": {
    "tags": []
   },
   "outputs": [
    {
     "name": "stdout",
     "output_type": "stream",
     "text": [
      "https://proteindc-neptune-db-cluster.cluster-cnfpwwtkftli.us-east-1.neptune.amazonaws.com:8182/loader\n"
     ]
    }
   ],
   "source": [
    "import boto3\n",
    "import sagemaker\n",
    "from sagemaker import image_uris\n",
    "import boto3\n",
    "import os\n",
    "import time\n",
    "import json\n",
    "import urllib.request\n",
    "from pathlib import Path\n",
    "from sagemaker.utils import name_from_base\n",
    "\n",
    "role = sagemaker.get_execution_role()  # execution role for the endpoint\n",
    "sess = sagemaker.session.Session()  # sagemaker session for interacting with different AWS APIs\n",
    "default_bucket = sess.default_bucket()  # bucket to house artifacts\n",
    "region = sess._region_name\n",
    "\n",
    "default_bucket\n"
   ]
  },
  {
   "cell_type": "code",
   "execution_count": null,
   "id": "bd7dfbdd",
   "metadata": {},
   "outputs": [],
   "source": [
    "neptune_host = 'proteindc-neptune-db-cluster.cluster-cnfpwwtkftli.us-east-1.neptune.amazonaws.com'\n",
    "neptune_port = '8182'\n",
    "iamRoleArn = 'arn:aws:iam::629244530291:role/zk-NeptuneLoadFromS3'"
   ]
  },
  {
   "cell_type": "code",
   "execution_count": null,
   "id": "8d918319",
   "metadata": {},
   "outputs": [],
   "source": [
    "\n",
    "url = f'https://{neptune_host}:{neptune_port}/loader'\n",
    "graph_notebook_host = f'https://{neptune_host}'\n",
    "\n",
    "%graph_notebook_host {neptune_host}"
   ]
  },
  {
   "cell_type": "code",
   "execution_count": 2,
   "id": "f72c3e11-5b03-4fde-a6e5-e2447365b618",
   "metadata": {
    "tags": []
   },
   "outputs": [],
   "source": [
    "\n",
    "\n",
    "source_bucket_name = 'aws-open-data-uniprot-rdf'\n",
    "bucket_name = source_bucket_name\n",
    "if(region != 'eu-west-3'):\n",
    "    bucket_name = default_bucket\n",
    "\n",
    "print(bucket_name)\n",
    "# define a list of files to be loaded\n",
    "files_to_load = [\n",
    "    \"2023-03/supporting/taxonomy.rdf.gz\",\n",
    "    \"2023-03/supporting/go.rdf.gz\",\n",
    "    \"2023-03/uniprot/uniprotkb_reviewed_eukaryota_opisthokonta_metazoa_33208_0.rdf.gz\"\n",
    "]\n",
    "\n"
   ]
  },
  {
   "cell_type": "code",
   "execution_count": null,
   "id": "5921bffb",
   "metadata": {},
   "outputs": [],
   "source": [
    "s3 = boto3.resource('s3')\n",
    "\n",
    "if(region != 'eu-west-3'):\n",
    "    for file in files_to_load:\n",
    "        copy_source = {\n",
    "            'Bucket': source_bucket_name,\n",
    "            'Key': file\n",
    "         }\n",
    "        s3.meta.client.copy(copy_source, default_bucket, file)\n"
   ]
  },
  {
   "cell_type": "code",
   "execution_count": 4,
   "id": "cd5c2661-1393-485c-b2aa-86328f806a8c",
   "metadata": {
    "tags": []
   },
   "outputs": [
    {
     "name": "stdout",
     "output_type": "stream",
     "text": [
      "https://proteindc-neptune-db-cluster.cluster-cnfpwwtkftli.us-east-1.neptune.amazonaws.com:8182/loader\n",
      "s3://aws-open-data-uniprot-rdf/2021-01/supporting/taxonomy.rdf.gz\n",
      "{\"source\": \"s3://aws-open-data-uniprot-rdf/2021-01/supporting/taxonomy.rdf.gz\", \"format\": \"rdfxml\", \"iamRoleArn\": \"arn:aws:iam::629244530291:role/zk-NeptuneLoadFromS3\", \"region\": \"us-east-1\", \"failOnError\": \"FALSE\", \"parallelism\": \"OVERSUBSCRIBE\", \"queueRequest\": \"TRUE\"}\n"
     ]
    },
    {
     "ename": "HTTPError",
     "evalue": "HTTP Error 400: Bad Request",
     "output_type": "error",
     "traceback": [
      "\u001b[0;31m---------------------------------------------------------------------------\u001b[0m",
      "\u001b[0;31mHTTPError\u001b[0m                                 Traceback (most recent call last)",
      "Cell \u001b[0;32mIn[4], line 31\u001b[0m\n\u001b[1;32m     28\u001b[0m     \u001b[38;5;28;01mreturn\u001b[39;00m loadids\n\u001b[1;32m     30\u001b[0m \u001b[38;5;28;01mfor\u001b[39;00m file \u001b[38;5;129;01min\u001b[39;00m files_to_load:\n\u001b[0;32m---> 31\u001b[0m     loadids \u001b[38;5;241m=\u001b[39m \u001b[43mloadfile\u001b[49m\u001b[43m(\u001b[49m\u001b[43mfile\u001b[49m\u001b[43m)\u001b[49m\n",
      "Cell \u001b[0;32mIn[4], line 22\u001b[0m, in \u001b[0;36mloadfile\u001b[0;34m(filelocation)\u001b[0m\n\u001b[1;32m     18\u001b[0m req \u001b[38;5;241m=\u001b[39m urllib\u001b[38;5;241m.\u001b[39mrequest\u001b[38;5;241m.\u001b[39mRequest(url \u001b[38;5;241m=\u001b[39m url, data \u001b[38;5;241m=\u001b[39m \u001b[38;5;28mbytes\u001b[39m(data\u001b[38;5;241m.\u001b[39mencode(\u001b[38;5;124m\"\u001b[39m\u001b[38;5;124mutf-8\u001b[39m\u001b[38;5;124m\"\u001b[39m)), method \u001b[38;5;241m=\u001b[39m \u001b[38;5;124m\"\u001b[39m\u001b[38;5;124mPOST\u001b[39m\u001b[38;5;124m\"\u001b[39m)\n\u001b[1;32m     20\u001b[0m req\u001b[38;5;241m.\u001b[39madd_header(\u001b[38;5;124m\"\u001b[39m\u001b[38;5;124mContent-type\u001b[39m\u001b[38;5;124m\"\u001b[39m, \u001b[38;5;124m\"\u001b[39m\u001b[38;5;124mapplication/json; charset=UTF-8\u001b[39m\u001b[38;5;124m\"\u001b[39m)\n\u001b[0;32m---> 22\u001b[0m \u001b[38;5;28;01mwith\u001b[39;00m \u001b[43murllib\u001b[49m\u001b[38;5;241;43m.\u001b[39;49m\u001b[43mrequest\u001b[49m\u001b[38;5;241;43m.\u001b[39;49m\u001b[43murlopen\u001b[49m\u001b[43m(\u001b[49m\u001b[43mreq\u001b[49m\u001b[43m)\u001b[49m \u001b[38;5;28;01mas\u001b[39;00m resp:\n\u001b[1;32m     23\u001b[0m     response_data \u001b[38;5;241m=\u001b[39m json\u001b[38;5;241m.\u001b[39mloads(resp\u001b[38;5;241m.\u001b[39mread()\u001b[38;5;241m.\u001b[39mdecode(\u001b[38;5;124m\"\u001b[39m\u001b[38;5;124mutf-8\u001b[39m\u001b[38;5;124m\"\u001b[39m))\n\u001b[1;32m     24\u001b[0m     loadId\u001b[38;5;241m=\u001b[39mresponse_data[\u001b[38;5;124m'\u001b[39m\u001b[38;5;124mpayload\u001b[39m\u001b[38;5;124m'\u001b[39m][\u001b[38;5;124m'\u001b[39m\u001b[38;5;124mloadId\u001b[39m\u001b[38;5;124m'\u001b[39m]\n",
      "File \u001b[0;32m~/anaconda3/envs/python3/lib/python3.10/urllib/request.py:216\u001b[0m, in \u001b[0;36murlopen\u001b[0;34m(url, data, timeout, cafile, capath, cadefault, context)\u001b[0m\n\u001b[1;32m    214\u001b[0m \u001b[38;5;28;01melse\u001b[39;00m:\n\u001b[1;32m    215\u001b[0m     opener \u001b[38;5;241m=\u001b[39m _opener\n\u001b[0;32m--> 216\u001b[0m \u001b[38;5;28;01mreturn\u001b[39;00m \u001b[43mopener\u001b[49m\u001b[38;5;241;43m.\u001b[39;49m\u001b[43mopen\u001b[49m\u001b[43m(\u001b[49m\u001b[43murl\u001b[49m\u001b[43m,\u001b[49m\u001b[43m \u001b[49m\u001b[43mdata\u001b[49m\u001b[43m,\u001b[49m\u001b[43m \u001b[49m\u001b[43mtimeout\u001b[49m\u001b[43m)\u001b[49m\n",
      "File \u001b[0;32m~/anaconda3/envs/python3/lib/python3.10/urllib/request.py:525\u001b[0m, in \u001b[0;36mOpenerDirector.open\u001b[0;34m(self, fullurl, data, timeout)\u001b[0m\n\u001b[1;32m    523\u001b[0m \u001b[38;5;28;01mfor\u001b[39;00m processor \u001b[38;5;129;01min\u001b[39;00m \u001b[38;5;28mself\u001b[39m\u001b[38;5;241m.\u001b[39mprocess_response\u001b[38;5;241m.\u001b[39mget(protocol, []):\n\u001b[1;32m    524\u001b[0m     meth \u001b[38;5;241m=\u001b[39m \u001b[38;5;28mgetattr\u001b[39m(processor, meth_name)\n\u001b[0;32m--> 525\u001b[0m     response \u001b[38;5;241m=\u001b[39m \u001b[43mmeth\u001b[49m\u001b[43m(\u001b[49m\u001b[43mreq\u001b[49m\u001b[43m,\u001b[49m\u001b[43m \u001b[49m\u001b[43mresponse\u001b[49m\u001b[43m)\u001b[49m\n\u001b[1;32m    527\u001b[0m \u001b[38;5;28;01mreturn\u001b[39;00m response\n",
      "File \u001b[0;32m~/anaconda3/envs/python3/lib/python3.10/urllib/request.py:634\u001b[0m, in \u001b[0;36mHTTPErrorProcessor.http_response\u001b[0;34m(self, request, response)\u001b[0m\n\u001b[1;32m    631\u001b[0m \u001b[38;5;66;03m# According to RFC 2616, \"2xx\" code indicates that the client's\u001b[39;00m\n\u001b[1;32m    632\u001b[0m \u001b[38;5;66;03m# request was successfully received, understood, and accepted.\u001b[39;00m\n\u001b[1;32m    633\u001b[0m \u001b[38;5;28;01mif\u001b[39;00m \u001b[38;5;129;01mnot\u001b[39;00m (\u001b[38;5;241m200\u001b[39m \u001b[38;5;241m<\u001b[39m\u001b[38;5;241m=\u001b[39m code \u001b[38;5;241m<\u001b[39m \u001b[38;5;241m300\u001b[39m):\n\u001b[0;32m--> 634\u001b[0m     response \u001b[38;5;241m=\u001b[39m \u001b[38;5;28;43mself\u001b[39;49m\u001b[38;5;241;43m.\u001b[39;49m\u001b[43mparent\u001b[49m\u001b[38;5;241;43m.\u001b[39;49m\u001b[43merror\u001b[49m\u001b[43m(\u001b[49m\n\u001b[1;32m    635\u001b[0m \u001b[43m        \u001b[49m\u001b[38;5;124;43m'\u001b[39;49m\u001b[38;5;124;43mhttp\u001b[39;49m\u001b[38;5;124;43m'\u001b[39;49m\u001b[43m,\u001b[49m\u001b[43m \u001b[49m\u001b[43mrequest\u001b[49m\u001b[43m,\u001b[49m\u001b[43m \u001b[49m\u001b[43mresponse\u001b[49m\u001b[43m,\u001b[49m\u001b[43m \u001b[49m\u001b[43mcode\u001b[49m\u001b[43m,\u001b[49m\u001b[43m \u001b[49m\u001b[43mmsg\u001b[49m\u001b[43m,\u001b[49m\u001b[43m \u001b[49m\u001b[43mhdrs\u001b[49m\u001b[43m)\u001b[49m\n\u001b[1;32m    637\u001b[0m \u001b[38;5;28;01mreturn\u001b[39;00m response\n",
      "File \u001b[0;32m~/anaconda3/envs/python3/lib/python3.10/urllib/request.py:563\u001b[0m, in \u001b[0;36mOpenerDirector.error\u001b[0;34m(self, proto, *args)\u001b[0m\n\u001b[1;32m    561\u001b[0m \u001b[38;5;28;01mif\u001b[39;00m http_err:\n\u001b[1;32m    562\u001b[0m     args \u001b[38;5;241m=\u001b[39m (\u001b[38;5;28mdict\u001b[39m, \u001b[38;5;124m'\u001b[39m\u001b[38;5;124mdefault\u001b[39m\u001b[38;5;124m'\u001b[39m, \u001b[38;5;124m'\u001b[39m\u001b[38;5;124mhttp_error_default\u001b[39m\u001b[38;5;124m'\u001b[39m) \u001b[38;5;241m+\u001b[39m orig_args\n\u001b[0;32m--> 563\u001b[0m     \u001b[38;5;28;01mreturn\u001b[39;00m \u001b[38;5;28;43mself\u001b[39;49m\u001b[38;5;241;43m.\u001b[39;49m\u001b[43m_call_chain\u001b[49m\u001b[43m(\u001b[49m\u001b[38;5;241;43m*\u001b[39;49m\u001b[43margs\u001b[49m\u001b[43m)\u001b[49m\n",
      "File \u001b[0;32m~/anaconda3/envs/python3/lib/python3.10/urllib/request.py:496\u001b[0m, in \u001b[0;36mOpenerDirector._call_chain\u001b[0;34m(self, chain, kind, meth_name, *args)\u001b[0m\n\u001b[1;32m    494\u001b[0m \u001b[38;5;28;01mfor\u001b[39;00m handler \u001b[38;5;129;01min\u001b[39;00m handlers:\n\u001b[1;32m    495\u001b[0m     func \u001b[38;5;241m=\u001b[39m \u001b[38;5;28mgetattr\u001b[39m(handler, meth_name)\n\u001b[0;32m--> 496\u001b[0m     result \u001b[38;5;241m=\u001b[39m \u001b[43mfunc\u001b[49m\u001b[43m(\u001b[49m\u001b[38;5;241;43m*\u001b[39;49m\u001b[43margs\u001b[49m\u001b[43m)\u001b[49m\n\u001b[1;32m    497\u001b[0m     \u001b[38;5;28;01mif\u001b[39;00m result \u001b[38;5;129;01mis\u001b[39;00m \u001b[38;5;129;01mnot\u001b[39;00m \u001b[38;5;28;01mNone\u001b[39;00m:\n\u001b[1;32m    498\u001b[0m         \u001b[38;5;28;01mreturn\u001b[39;00m result\n",
      "File \u001b[0;32m~/anaconda3/envs/python3/lib/python3.10/urllib/request.py:643\u001b[0m, in \u001b[0;36mHTTPDefaultErrorHandler.http_error_default\u001b[0;34m(self, req, fp, code, msg, hdrs)\u001b[0m\n\u001b[1;32m    642\u001b[0m \u001b[38;5;28;01mdef\u001b[39;00m \u001b[38;5;21mhttp_error_default\u001b[39m(\u001b[38;5;28mself\u001b[39m, req, fp, code, msg, hdrs):\n\u001b[0;32m--> 643\u001b[0m     \u001b[38;5;28;01mraise\u001b[39;00m HTTPError(req\u001b[38;5;241m.\u001b[39mfull_url, code, msg, hdrs, fp)\n",
      "\u001b[0;31mHTTPError\u001b[0m: HTTP Error 400: Bad Request"
     ]
    }
   ],
   "source": [
    "loadids = []\n",
    "print(url)\n",
    "def loadfile(filelocation):\n",
    "    print(f\"s3://{bucket_name}/{filelocation}\")\n",
    "    print(iamRoleArn)\n",
    "    print(region)\n",
    "    data = {\n",
    "      \"source\" : f\"s3://{bucket_name}/{filelocation}\",\n",
    "      \"format\" : \"rdfxml\",\n",
    "      \"iamRoleArn\" : iamRoleArn,\n",
    "      \"region\" : region,\n",
    "      \"failOnError\" : \"FALSE\",\n",
    "      \"parallelism\" : \"OVERSUBSCRIBE\",\n",
    "      \"queueRequest\" : \"TRUE\"\n",
    "    }\n",
    "\n",
    "    data = json.dumps(data)\n",
    "    print(data)\n",
    "\n",
    "    req = urllib.request.Request(url = url, data = bytes(data.encode(\"utf-8\")), method = \"POST\")\n",
    "\n",
    "    req.add_header(\"Content-type\", \"application/json; charset=UTF-8\")\n",
    "\n",
    "    with urllib.request.urlopen(req) as resp:\n",
    "        response_data = json.loads(resp.read().decode(\"utf-8\"))\n",
    "        loadId=response_data['payload']['loadId']\n",
    "        \n",
    "    print(\"load id: {}\".format(loadId))\n",
    "    loadids.append(loadId)\n",
    "    return loadids\n",
    "    \n",
    "for file in files_to_load:\n",
    "    loadids = loadfile(file)"
   ]
  },
  {
   "attachments": {},
   "cell_type": "markdown",
   "id": "19296888-132a-4c85-8afe-e6ffce2fd458",
   "metadata": {},
   "source": [
    "# 监控数据加载进度"
   ]
  },
  {
   "cell_type": "code",
   "execution_count": 6,
   "id": "249d5208-29ea-46f6-97e9-bbb9d49aaa04",
   "metadata": {},
   "outputs": [
    {
     "name": "stdout",
     "output_type": "stream",
     "text": [
      "6c085caf-c274-43b0-9955-1b2b66a54f33  status: LOAD_COMPLETED \tload time: 488s\trecords: 15950018\n",
      "ebfd5eb5-52c9-47c0-889a-7e1c1615b9af  status: LOAD_COMPLETED \tload time: 17s\trecords: 38139292\n",
      "aa57dad4-97df-4caf-810f-72057d72adfd  status: LOAD_COMPLETED \tload time: 10394s\trecords: 34441224300\n"
     ]
    }
   ],
   "source": [
    "import time\n",
    "for load_id in loadids:\n",
    "    req = urllib.request.Request(url = \"/\".join([url, load_id]), method = \"GET\")\n",
    "    req.add_header(\"Content-type\", \"application/json; charset=UTF-8\")\n",
    "    \n",
    "    status = None\n",
    "    while status != 'LOAD_COMPLETED':\n",
    "        with urllib.request.urlopen(req) as resp:\n",
    "            response_data = json.loads(resp.read().decode(\"utf-8\"))['payload']\n",
    "\n",
    "        status = response_data['overallStatus']['status']\n",
    "        totalTimeSpent = response_data['overallStatus']['totalTimeSpent']\n",
    "        totalRecords = response_data['overallStatus']['totalRecords']\n",
    "        end = '\\n' if status == 'LOAD_COMPLETED' else '\\r'\n",
    "        print(f\"{load_id}  status: {status} \\tload time: {totalTimeSpent}s\\trecords: {totalRecords}\", end=end)\n",
    "        time.sleep(1)"
   ]
  },
  {
   "attachments": {},
   "cell_type": "markdown",
   "id": "05345fb1",
   "metadata": {},
   "source": [
    "#  测试"
   ]
  },
  {
   "cell_type": "code",
   "execution_count": null,
   "id": "a07b164a-6b0d-45eb-a97c-a56d8bc87789",
   "metadata": {},
   "outputs": [],
   "source": [
    "%%sparql\n",
    "SELECT ?s ?p ?o WHERE {?s ?p ?o} LIMIT 10"
   ]
  }
 ],
 "metadata": {
  "kernelspec": {
   "display_name": "conda_python3",
   "language": "python",
   "name": "conda_python3"
  },
  "language_info": {
   "codemirror_mode": {
    "name": "ipython",
    "version": 3
   },
   "file_extension": ".py",
   "mimetype": "text/x-python",
   "name": "python",
   "nbconvert_exporter": "python",
   "pygments_lexer": "ipython3",
   "version": "3.10.12"
  }
 },
 "nbformat": 4,
 "nbformat_minor": 5
}
