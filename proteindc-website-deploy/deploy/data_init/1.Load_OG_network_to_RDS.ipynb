{
 "cells": [
  {
   "cell_type": "markdown",
   "id": "369821ac-2cf1-43bb-b30c-38dfd53b517b",
   "metadata": {},
   "source": [
    "## 1. 初始化数据加载依赖"
   ]
  },
  {
   "cell_type": "code",
   "execution_count": null,
   "id": "de525229-74f6-47af-b193-bbbac4d0c2f5",
   "metadata": {
    "tags": []
   },
   "outputs": [],
   "source": [
    "!pip install boto3==1.26.53 -q\n",
    "!pip install botocore==1.31.33 -q\n",
    "!pip install mysql-connector-python -q"
   ]
  },
  {
   "cell_type": "code",
   "execution_count": null,
   "id": "34c0e6f4-7a6d-4a94-a8ab-c06d415109ba",
   "metadata": {
    "tags": []
   },
   "outputs": [],
   "source": [
    "import urllib.request\n",
    "import tarfile\n",
    "import os\n",
    "import boto3\n",
    "import requests\n",
    "import pandas as pd\n",
    "import mysql.connector"
   ]
  },
  {
   "cell_type": "markdown",
   "id": "e0aba87a-ff4c-435d-b5a3-5b888d6fafcb",
   "metadata": {},
   "source": [
    "## 1. 配置数据库连接参数"
   ]
  },
  {
   "cell_type": "code",
   "execution_count": null,
   "id": "88b53e23-ea61-449b-9d41-ff447a17762a",
   "metadata": {
    "tags": []
   },
   "outputs": [],
   "source": [
    "host = \"nyu-mysql.cluster-cnfpwwtkftli.us-east-1.rds.amazonaws.com\" # endpoint地址\n",
    "port = 3306 # 端口\n",
    "user = \"awsuser\" # 数据库连接用户吗\n",
    "passwd = \"4z(hFH-({u2Y*g:$BL{!D$Rp%H_!\" # 数据库连接密码\n",
    "database = \"nyuog\" #使用的数据库名称"
   ]
  },
  {
   "cell_type": "markdown",
   "id": "43f6ecaf-b52a-4027-b3f3-8f7a3888affb",
   "metadata": {},
   "source": [
    "## 2. 初始化数据库表结构\n",
    "### 【注意】，只有首次初始化数据库表的时候才需要执行！！"
   ]
  },
  {
   "cell_type": "code",
   "execution_count": null,
   "id": "9f968603-6873-4f16-9cbe-439ac8c7a4d2",
   "metadata": {
    "tags": []
   },
   "outputs": [],
   "source": [
    "def init_data_table():\n",
    "    try:\n",
    "        mydb = mysql.connector.connect(host = host,\n",
    "                                  port = port,\n",
    "                                  user = user,\n",
    "                                  passwd = passwd,\n",
    "                                  database = database)\n",
    "        sql_1 = \"\"\"\n",
    "            DROP TABLE IF EXISTS `edge`;\n",
    "            \"\"\"\n",
    "\n",
    "        sql_2 = \"\"\"\n",
    "        CREATE TABLE `edge` (\n",
    "              `id` bigint(20) unsigned zerofill NOT NULL AUTO_INCREMENT,\n",
    "              `source` varchar(20) COLLATE utf8mb4_general_ci NOT NULL,\n",
    "              `target` varchar(20) COLLATE utf8mb4_general_ci NOT NULL,\n",
    "              `weight` float unsigned zerofill NOT NULL,\n",
    "              `type` char(15) COLLATE utf8mb4_general_ci NOT NULL DEFAULT '',\n",
    "              PRIMARY KEY (`id`)\n",
    "            ) ENGINE=InnoDB AUTO_INCREMENT=20571 DEFAULT CHARSET=utf8mb4 COLLATE=utf8mb4_general_ci;\n",
    "        \"\"\"\n",
    "        sql_3 = \"\"\"\n",
    "            SET FOREIGN_KEY_CHECKS = 1;\n",
    "            \"\"\"\n",
    "        sql_4 = \"\"\"\n",
    "            DROP TABLE IF EXISTS `node`;\n",
    "            \"\"\"\n",
    "        sql_5 = \"\"\"\n",
    "            CREATE TABLE `node` (\n",
    "              `id` bigint(20) unsigned zerofill NOT NULL AUTO_INCREMENT COMMENT 'Node id',\n",
    "              `name` varchar(40) CHARACTER SET utf8mb4 COLLATE utf8mb4_general_ci NOT NULL COMMENT 'Node name',\n",
    "              `type` char(15) CHARACTER SET utf8mb4 COLLATE utf8mb4_general_ci NOT NULL DEFAULT '',\n",
    "              `refer` varchar(20) COLLATE utf8mb4_general_ci DEFAULT NULL,\n",
    "              `describe` varchar(255) COLLATE utf8mb4_general_ci DEFAULT NULL,\n",
    "              PRIMARY KEY (`id`)\n",
    "            ) ENGINE=InnoDB AUTO_INCREMENT=16103 DEFAULT CHARSET=utf8mb4 COLLATE=utf8mb4_general_ci;\n",
    "            \"\"\"\n",
    "        sql_6 = \"\"\"\n",
    "            SET FOREIGN_KEY_CHECKS = 1;\n",
    "            \"\"\"\n",
    "        mycursor = mydb.cursor()\n",
    "        mycursor.execute(sql_1)\n",
    "        mycursor.execute(sql_2)\n",
    "        mycursor.execute(sql_3)\n",
    "        mycursor.execute(sql_4)\n",
    "        mycursor.execute(sql_5)\n",
    "        mycursor.execute(sql_6)\n",
    "\n",
    "        mydb.commit()\n",
    "    except mysql.connector.Error as error:\n",
    "        print(\"Failed to update record to database rollback: {}\".format(error))\n",
    "        # reverting changes because of exception\n",
    "        mydb.rollback()\n",
    "    finally:\n",
    "        # closing database connection.\n",
    "        if mydb.is_connected():\n",
    "            mycursor.close()\n",
    "            mydb.close()\n",
    "            print(\"connection is closed\")\n",
    "\n",
    "init_data_table()\n"
   ]
  },
  {
   "cell_type": "markdown",
   "id": "9e857052-c2d5-49da-9df2-77448dafb9da",
   "metadata": {
    "tags": []
   },
   "source": [
    "## 3.加载数据\n",
    "去读文件夹：og_data/source 中的csv文件，并加载到数据库表的edge和node表中。\n",
    "具体csv的格式请参考文件夹中的实力文件\n",
    "\n",
    "### 3.1 定义加载方法"
   ]
  },
  {
   "cell_type": "code",
   "execution_count": null,
   "id": "b5c31bee-ba3a-4b12-9984-a456abb4c7f5",
   "metadata": {
    "tags": []
   },
   "outputs": [],
   "source": [
    "# check if the node already exists.\n",
    "def check_exist_node(nodelines, target) :\n",
    "    # 遍历集合\n",
    "    for row in nodelines:\n",
    "        if row.split(',')[0] == target:\n",
    "            return True\n",
    "\n",
    "    return False\n",
    "\n",
    "\n",
    "# create a row\n",
    "def check_and_append_nodes(nodelines, target, label) :\n",
    "    # print('check_and_append_nodes')\n",
    "    if not check_exist_node(nodelines, target):\n",
    "        # print('append')\n",
    "        node = ['', '', '']\n",
    "        node[0] = target\n",
    "        node[1] = target\n",
    "        node[2] = label\n",
    "        node = ', '.join(node)\n",
    "        nodelines.append(node)\n",
    "        \n",
    "        try_insert_node(target)\n",
    "        \n",
    "\n",
    "def try_insert_edge(source, target, weight):\n",
    "    try:\n",
    "        mydb = mysql.connector.connect(host = host,\n",
    "                                  port = port,\n",
    "                                  user = user,\n",
    "                                  passwd = passwd,\n",
    "                                  database = database\n",
    "                                         )\n",
    "        sql = \"INSERT INTO edge (source, target, weight) VALUES (%s, %s, %s)\"\n",
    "        val = (source, target, weight)\n",
    "        mycursor = mydb.cursor()\n",
    "        mycursor.execute(sql, val)\n",
    "\n",
    "        mydb.commit()\n",
    "\n",
    "        # print(val)\n",
    "        # print(mycursor.rowcount, \"edge record inserted.\")\n",
    "    except mysql.connector.Error as error:\n",
    "        print(\"Failed to update record to database rollback: {}\".format(error))\n",
    "        # reverting changes because of exception\n",
    "        mydb.rollback()\n",
    "    finally:\n",
    "        # closing database connection.\n",
    "        if mydb.is_connected():\n",
    "            mycursor.close()\n",
    "            mydb.close()\n",
    "            # print(\"connection is closed\")\n",
    "\n",
    "def try_insert_node(nodename):\n",
    "    try:\n",
    "        mydb = mysql.connector.connect(host = host,\n",
    "                                  port = port,\n",
    "                                  user = user,\n",
    "                                  passwd = passwd,\n",
    "                                  database = database\n",
    "                                         )\n",
    "        sql = \"INSERT INTO node (name, type) VALUES (%s, %s)\"\n",
    "\n",
    "        val = (nodename, '')\n",
    "        mycursor = mydb.cursor()\n",
    "        # print(val)\n",
    "        mycursor.execute(sql, val)\n",
    "\n",
    "        mydb.commit()\n",
    "\n",
    "        # print(mycursor.rowcount, \"node record inserted.\")\n",
    "    \n",
    "    except mysql.connector.Error as error:\n",
    "        print(\"Failed to update record to database rollback: {}\".format(error))\n",
    "        # reverting changes because of exception\n",
    "        mydb.rollback()\n",
    "    finally:\n",
    "        # closing database connection.\n",
    "        if mydb.is_connected():\n",
    "            mycursor.close()\n",
    "            mydb.close()\n",
    "            # print(\"connection is closed\")\n",
    "\n",
    "\n",
    "\n",
    "def convert(sourcefile, targetnode, targetedge, label):\n",
    "    print(sourcefile)\n",
    "    nodelines = []\n",
    "    # with open(sourcefile, 'r') as f:\n",
    "    #     lines = f.readlines()\n",
    "    \n",
    "    lines = pd.read_csv(sourcefile)\n",
    "    \n",
    "    # print(len(lines))\n",
    "    # print(lines)\n",
    "    \n",
    "    for index, row in lines.iterrows():\n",
    "        # print(row)\n",
    "        # edge_row = row.strip().split('\\t')\n",
    "        fromv = row[0]\n",
    "        tov = row[1]\n",
    "        weight = row[2]\n",
    "        \n",
    "        rowid =  fromv + tov\n",
    "\n",
    "        try_insert_edge(fromv, tov, weight)\n",
    "        \n",
    "        # check the target node id is already exists. if not then append.\n",
    "        check_and_append_nodes(nodelines, tov, label)\n",
    "        # check the source node id is already exists. if not then append.\n",
    "        check_and_append_nodes(nodelines, fromv, label)\n",
    "\n",
    "\n",
    "#     with open(targetedge, 'w', newline='\\r') as f:\n",
    "#         # f.writelines(lines)\n",
    "#         f.write('~id, ~from, ~to, weight:Double\\r')\n",
    "#         f.write('\\r'.join(lines))\n",
    "        \n",
    "    # lines.to_csv(targetedge, index=False, mode='a', header=False)\n",
    "    \n",
    "    # df_nodes = pd.DataFrame(nodelines)\n",
    "    # df_nodes.to_csv(targetnode, index=False, mode='a', header=False)\n",
    "\n",
    "\n",
    "    # with open(targetnode, 'w', newline='\\r') as f:\n",
    "    #     # f.writelines(lines)\n",
    "    #     f.write('~id, name:String, ~label\\r')\n",
    "    #     nodelines = '\\r'.join(nodelines)\n",
    "    #     for row in nodelines:\n",
    "    #         f.write('\\r'.join(row))\n",
    "\n"
   ]
  },
  {
   "cell_type": "markdown",
   "id": "7b8db0d9-6d4d-4376-bbd4-50534da7cd82",
   "metadata": {},
   "source": [
    "### 3.2 执行加载方法"
   ]
  },
  {
   "cell_type": "code",
   "execution_count": null,
   "id": "738a9239-04e6-4a58-87f1-ba1dbbe14cda",
   "metadata": {
    "tags": []
   },
   "outputs": [],
   "source": [
    "\n",
    "source_folder_path = 'og_data/source'\n",
    "target_folder_path = 'og_data/target'\n",
    "\n",
    "if not os.path.exists(target_folder_path):\n",
    "    os.makedirs(target_folder_path)\n",
    "\n",
    "# loop to handle the origional files.\n",
    "for filename in os.listdir(source_folder_path):\n",
    "    \n",
    "    print(filename)\n",
    "    # Convert the origional file to gremlin format file.\n",
    "    convert(source_folder_path+\"/\"+filename,\n",
    "            target_folder_path+\"/node_\"+filename,\n",
    "            target_folder_path+\"/edge_\"+filename,\n",
    "            filename)"
   ]
  },
  {
   "cell_type": "markdown",
   "id": "c5635730-f6fa-47e1-84a2-a49434f38efc",
   "metadata": {},
   "source": [
    "## 4. 测试数据加载"
   ]
  },
  {
   "cell_type": "code",
   "execution_count": null,
   "id": "e41e4e23-4f24-43ed-8589-bba14f0dea32",
   "metadata": {
    "tags": []
   },
   "outputs": [],
   "source": [
    "def try_select_node(nodename):\n",
    "    try:\n",
    "        mydb = mysql.connector.connect(host = host,\n",
    "                                  port = port,\n",
    "                                  user = user,\n",
    "                                  passwd = passwd,\n",
    "                                  database = database)\n",
    "        mycursor = mydb.cursor()\n",
    "        mycursor.execute(\"SELECT * FROM edge where source = 'E6SH66'\")\n",
    "\n",
    "        myresult = mycursor.fetchall()\n",
    "\n",
    "        for x in myresult:\n",
    "            print(x)\n",
    "    except mysql.connector.Error as error:\n",
    "        print(\"Failed to update record to database rollback: {}\".format(error))\n",
    "        # reverting changes because of exception\n",
    "        mydb.rollback()\n",
    "    finally:\n",
    "        # closing database connection.\n",
    "        if mydb.is_connected():\n",
    "            mycursor.close()\n",
    "            mydb.close()\n",
    "            print(\"connection is closed\")\n",
    "\n",
    "try_select_node('E6SH66')"
   ]
  },
  {
   "cell_type": "code",
   "execution_count": null,
   "id": "fded286e-52d7-4256-a77e-0b984ea90a26",
   "metadata": {},
   "outputs": [],
   "source": []
  }
 ],
 "metadata": {
  "kernelspec": {
   "display_name": "Python 3",
   "language": "python",
   "name": "python3"
  },
  "language_info": {
   "codemirror_mode": {
    "name": "ipython",
    "version": 3
   },
   "file_extension": ".py",
   "mimetype": "text/x-python",
   "name": "python",
   "nbconvert_exporter": "python",
   "pygments_lexer": "ipython3",
   "version": "3.10.8"
  }
 },
 "nbformat": 4,
 "nbformat_minor": 5
}
