{
 "cells": [
  {
   "cell_type": "code",
   "execution_count": null,
   "id": "820bd28a-8109-4875-9deb-a818ba325271",
   "metadata": {
    "tags": []
   },
   "outputs": [],
   "source": [
    "import boto3\n",
    "import sagemaker\n",
    "from sagemaker import image_uris\n",
    "import boto3\n",
    "import os\n",
    "import time\n",
    "import json\n",
    "import urllib.request\n",
    "from pathlib import Path\n",
    "from sagemaker.utils import name_from_base\n",
    "\n",
    "role = sagemaker.get_execution_role()  # execution role for the endpoint\n",
    "sess = sagemaker.session.Session()  # sagemaker session for interacting with different AWS APIs\n",
    "default_bucket = sess.default_bucket()  # bucket to house artifacts\n",
    "region = sess._region_name\n",
    "\n",
    "default_bucket\n"
   ]
  },
  {
   "attachments": {},
   "cell_type": "markdown",
   "id": "b31c493c",
   "metadata": {},
   "source": [
    "## 初始化数据库参数"
   ]
  },
  {
   "cell_type": "code",
   "execution_count": null,
   "id": "bd7dfbdd",
   "metadata": {},
   "outputs": [],
   "source": [
    "neptune_host = 'proteindc-neptune-db-cluster.cluster-cnfpwwtkftli.us-east-1.neptune.amazonaws.com'\n",
    "neptune_port = '8182'\n",
    "iamRoleArn = 'arn:aws:iam::629244530291:role/zk-NeptuneLoadFromS3'"
   ]
  },
  {
   "attachments": {},
   "cell_type": "markdown",
   "id": "153b941b",
   "metadata": {},
   "source": [
    "## 设置Notebook环境参数"
   ]
  },
  {
   "cell_type": "code",
   "execution_count": null,
   "id": "8d918319",
   "metadata": {},
   "outputs": [],
   "source": [
    "\n",
    "url = f'https://{neptune_host}:{neptune_port}/loader'\n",
    "graph_notebook_host = f'https://{neptune_host}'\n",
    "\n",
    "%graph_notebook_host {neptune_host}"
   ]
  },
  {
   "attachments": {},
   "cell_type": "markdown",
   "id": "69c54539",
   "metadata": {},
   "source": [
    "## 设置需要加载的文件\n",
    "\n",
    "files_to_load 列表为需要加载的rdf文件列表；\n",
    "更多文件信息可以参考uniprot公开数据集：s3://aws-open-data-uniprot-rdf\n",
    "如果当前执行的区域不在eu-west-3，会将数据存储到sagemaker默认的S3存储桶中，然后再上传到neptune数据库"
   ]
  },
  {
   "cell_type": "code",
   "execution_count": null,
   "id": "f72c3e11-5b03-4fde-a6e5-e2447365b618",
   "metadata": {
    "tags": []
   },
   "outputs": [],
   "source": [
    "\n",
    "\n",
    "source_bucket_name = 'aws-open-data-uniprot-rdf'\n",
    "bucket_name = source_bucket_name\n",
    "if(region != 'eu-west-3'):\n",
    "    bucket_name = default_bucket\n",
    "\n",
    "print(bucket_name)\n",
    "# define a list of files to be loaded\n",
    "files_to_load = [\n",
    "    \"2023-03/supporting/taxonomy.rdf.gz\",\n",
    "    \"2023-03/supporting/go.rdf.gz\",\n",
    "    \"2023-03/uniprot/uniprotkb_reviewed_eukaryota_opisthokonta_metazoa_33208_0.rdf.gz\"\n",
    "]"
   ]
  },
  {
   "cell_type": "code",
   "execution_count": null,
   "id": "5921bffb",
   "metadata": {},
   "outputs": [],
   "source": [
    "s3 = boto3.resource('s3')\n",
    "\n",
    "if(region != 'eu-west-3'):\n",
    "    for file in files_to_load:\n",
    "        copy_source = {\n",
    "            'Bucket': source_bucket_name,\n",
    "            'Key': file\n",
    "         }\n",
    "        s3.meta.client.copy(copy_source, default_bucket, file)\n"
   ]
  },
  {
   "cell_type": "markdown",
   "id": "ae7bfa27",
   "metadata": {},
   "source": [
    "## 加载数据到Neptune数据库"
   ]
  },
  {
   "cell_type": "code",
   "execution_count": null,
   "id": "cd5c2661-1393-485c-b2aa-86328f806a8c",
   "metadata": {
    "tags": []
   },
   "outputs": [],
   "source": [
    "loadids = []\n",
    "print(url)\n",
    "def loadfile(filelocation):\n",
    "    print(f\"s3://{bucket_name}/{filelocation}\")\n",
    "    print(iamRoleArn)\n",
    "    print(region)\n",
    "    data = {\n",
    "      \"source\" : f\"s3://{bucket_name}/{filelocation}\",\n",
    "      \"format\" : \"rdfxml\",\n",
    "      \"iamRoleArn\" : iamRoleArn,\n",
    "      \"region\" : region,\n",
    "      \"failOnError\" : \"FALSE\",\n",
    "      \"parallelism\" : \"OVERSUBSCRIBE\",\n",
    "      \"queueRequest\" : \"TRUE\"\n",
    "    }\n",
    "\n",
    "    data = json.dumps(data)\n",
    "    print(data)\n",
    "\n",
    "    req = urllib.request.Request(url = url, data = bytes(data.encode(\"utf-8\")), method = \"POST\")\n",
    "\n",
    "    req.add_header(\"Content-type\", \"application/json; charset=UTF-8\")\n",
    "\n",
    "    with urllib.request.urlopen(req) as resp:\n",
    "        response_data = json.loads(resp.read().decode(\"utf-8\"))\n",
    "        loadId=response_data['payload']['loadId']\n",
    "        \n",
    "    print(\"load id: {}\".format(loadId))\n",
    "    loadids.append(loadId)\n",
    "    return loadids\n",
    "    \n",
    "for file in files_to_load:\n",
    "    loadids = loadfile(file)"
   ]
  },
  {
   "attachments": {},
   "cell_type": "markdown",
   "id": "19296888-132a-4c85-8afe-e6ffce2fd458",
   "metadata": {},
   "source": [
    "## 监控数据加载进度"
   ]
  },
  {
   "cell_type": "code",
   "execution_count": null,
   "id": "249d5208-29ea-46f6-97e9-bbb9d49aaa04",
   "metadata": {},
   "outputs": [],
   "source": [
    "import time\n",
    "for load_id in loadids:\n",
    "    req = urllib.request.Request(url = \"/\".join([url, load_id]), method = \"GET\")\n",
    "    req.add_header(\"Content-type\", \"application/json; charset=UTF-8\")\n",
    "    \n",
    "    status = None\n",
    "    while status != 'LOAD_COMPLETED':\n",
    "        with urllib.request.urlopen(req) as resp:\n",
    "            response_data = json.loads(resp.read().decode(\"utf-8\"))['payload']\n",
    "\n",
    "        status = response_data['overallStatus']['status']\n",
    "        totalTimeSpent = response_data['overallStatus']['totalTimeSpent']\n",
    "        totalRecords = response_data['overallStatus']['totalRecords']\n",
    "        end = '\\n' if status == 'LOAD_COMPLETED' else '\\r'\n",
    "        print(f\"{load_id}  status: {status} \\tload time: {totalTimeSpent}s\\trecords: {totalRecords}\", end=end)\n",
    "        time.sleep(1)"
   ]
  },
  {
   "attachments": {},
   "cell_type": "markdown",
   "id": "05345fb1",
   "metadata": {},
   "source": [
    "##  测试\n",
    "执行下面代码查询数据"
   ]
  },
  {
   "cell_type": "code",
   "execution_count": null,
   "id": "a07b164a-6b0d-45eb-a97c-a56d8bc87789",
   "metadata": {},
   "outputs": [],
   "source": [
    "%%sparql\n",
    "SELECT ?s ?p ?o WHERE {?s ?p ?o} LIMIT 10"
   ]
  }
 ],
 "metadata": {
  "kernelspec": {
   "display_name": "conda_python3",
   "language": "python",
   "name": "conda_python3"
  },
  "language_info": {
   "codemirror_mode": {
    "name": "ipython",
    "version": 3
   },
   "file_extension": ".py",
   "mimetype": "text/x-python",
   "name": "python",
   "nbconvert_exporter": "python",
   "pygments_lexer": "ipython3",
   "version": "3.10.12"
  }
 },
 "nbformat": 4,
 "nbformat_minor": 5
}
